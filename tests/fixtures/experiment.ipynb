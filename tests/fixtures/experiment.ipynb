{
 "cells": [
  {
   "cell_type": "code",
   "execution_count": 6,
   "metadata": {
    "collapsed": true
   },
   "outputs": [
    {
     "name": "stdout",
     "output_type": "stream",
     "text": [
      "True\n"
     ]
    }
   ],
   "source": [
    "import json\n",
    "\n",
    "print(not None)"
   ]
  },
  {
   "cell_type": "code",
   "execution_count": 4,
   "outputs": [],
   "source": [
    "None"
   ],
   "metadata": {
    "collapsed": false
   }
  },
  {
   "cell_type": "code",
   "execution_count": 9,
   "outputs": [],
   "source": [
    "a = ''\n",
    "if a is None:\n",
    "    print('pizdec')"
   ],
   "metadata": {
    "collapsed": false
   }
  },
  {
   "cell_type": "code",
   "execution_count": 12,
   "outputs": [
    {
     "name": "stdout",
     "output_type": "stream",
     "text": [
      "{\"status\":\"ProtocolError\",\"errorMessage\":\"Authorization header is incorrect. Correct header example:\\r\\nAuthorization: Mindbox secretKey=\\\"PUT_YOUR_SECRET_KEY_HERE\\\"\",\"errorId\":\"92448be6-b01f-4622-9b28-75079f1eab1a\",\"httpStatusCode\":401}\n"
     ]
    }
   ],
   "source": [
    "\n",
    "\n",
    "import requests\n",
    "url = \"https://api.mindbox.ru/v3/operations/sync?endpointId=hiring&operation=get.user\"\n",
    "# myobj = {\"Content-Type\": \"application/json\",\n",
    "#          charset=utf-8,\n",
    "#          Accept: application/json\n",
    "#          headers={'Authorization': 'QQ5oyl5DLBhKeLrQO1A2'}\n",
    "#          Authorization: Mindbox secretKey=\"QQ5oyl5DLBhKeLrQO1A2\"}\n",
    "myobj = {\"Content-Type\": \"application/json\"}\n",
    "\n",
    "x = requests.post(url, json = myobj, headers={'Authorization': Mindbox secretKey=\\\"QQ5oyl5DLBhKeLrQO1A2\\\"})\n",
    "\n",
    "print(x.text)"
   ],
   "metadata": {
    "collapsed": false
   }
  },
  {
   "cell_type": "code",
   "execution_count": 20,
   "outputs": [
    {
     "name": "stdout",
     "output_type": "stream",
     "text": [
      "{'Accept': 'application/json', 'Content-Type': 'application/json', 'Authorization': 'Mindbox secretKey=\"D061p764m85bklq\"'}\n",
      "{\"status\":\"ProtocolError\",\"errorMessage\":\"Incorrect secret key 'D061p764m85bklq' for endpoint 'hiring'.\",\"errorId\":\"5632ec93-7c4a-4142-b2e3-ec9c60201de9\",\"httpStatusCode\":403}\n"
     ]
    }
   ],
   "source": [
    "import json\n",
    "with open('./api.json') as f:\n",
    "    content = json.load(f)\n",
    "\n",
    "print(content)\n",
    "x = requests.post(url, headers = content)\n",
    "\n",
    "print(x.text)"
   ],
   "metadata": {
    "collapsed": false
   }
  },
  {
   "cell_type": "code",
   "execution_count": 18,
   "outputs": [
    {
     "data": {
      "text/plain": "{'a': 2, 'b': 3, 'c': 4}"
     },
     "execution_count": 18,
     "metadata": {},
     "output_type": "execute_result"
    }
   ],
   "source": [
    "a = {'a': 2, 'b': 3, 'c': 4}\n",
    "a"
   ],
   "metadata": {
    "collapsed": false
   }
  },
  {
   "cell_type": "code",
   "execution_count": 19,
   "outputs": [
    {
     "ename": "TypeError",
     "evalue": "unhashable type: 'slice'",
     "output_type": "error",
     "traceback": [
      "\u001B[0;31m---------------------------------------------------------------------------\u001B[0m",
      "\u001B[0;31mTypeError\u001B[0m                                 Traceback (most recent call last)",
      "Cell \u001B[0;32mIn[19], line 1\u001B[0m\n\u001B[0;32m----> 1\u001B[0m \u001B[43ma\u001B[49m\u001B[43m[\u001B[49m\u001B[43m:\u001B[49m\u001B[38;5;241;43m2\u001B[39;49m\u001B[43m]\u001B[49m\n",
      "\u001B[0;31mTypeError\u001B[0m: unhashable type: 'slice'"
     ]
    }
   ],
   "source": [
    "a[:2]"
   ],
   "metadata": {
    "collapsed": false
   }
  },
  {
   "cell_type": "code",
   "execution_count": null,
   "outputs": [],
   "source": [],
   "metadata": {
    "collapsed": false
   }
  }
 ],
 "metadata": {
  "kernelspec": {
   "display_name": "Python 3",
   "language": "python",
   "name": "python3"
  },
  "language_info": {
   "codemirror_mode": {
    "name": "ipython",
    "version": 2
   },
   "file_extension": ".py",
   "mimetype": "text/x-python",
   "name": "python",
   "nbconvert_exporter": "python",
   "pygments_lexer": "ipython2",
   "version": "2.7.6"
  }
 },
 "nbformat": 4,
 "nbformat_minor": 0
}
